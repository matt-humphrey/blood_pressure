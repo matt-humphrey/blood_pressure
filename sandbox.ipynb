{
 "cells": [
  {
   "cell_type": "code",
   "execution_count": null,
   "id": "ae383408",
   "metadata": {},
   "outputs": [],
   "source": [
    "import banksia as bk\n",
    "import pointblank as pb\n",
    "import polars as pl\n",
    "\n",
    "from blood_pressure import VALIDATIONS, apply_pipeline\n",
    "from blood_pressure.config import DATASETS, PROCESSED_DATA, RAW_DATA\n",
    "from datetime import time\n",
    "\n",
    "from pointblank import Validate\n",
    "from polars import DataFrame"
   ]
  },
  {
   "cell_type": "code",
   "execution_count": null,
   "id": "031132a6",
   "metadata": {},
   "outputs": [],
   "source": [
    "changelog = pl.read_csv(\"Changelog.csv\")"
   ]
  },
  {
   "cell_type": "code",
   "execution_count": null,
   "id": "2caeb9cd",
   "metadata": {},
   "outputs": [],
   "source": [
    "df = changelog.filter(pl.col(\"file\").eq(\"G222_PA.sav\"))"
   ]
  },
  {
   "cell_type": "code",
   "execution_count": null,
   "id": "3bb7d6cc",
   "metadata": {},
   "outputs": [],
   "source": [
    "harmonised = df.filter(pl.col(\"status\").eq(\"harmonised\")).to_series(1).to_list()\n",
    "deleted = df.filter(pl.col(\"status\").eq(\"deleted\")).to_series(1).to_list()\n",
    "\n",
    "renamed_from = df.filter(pl.col(\"status\").eq(\"renamed\")).to_series(1).to_list()\n",
    "renamed_to = df.filter(pl.col(\"status\").eq(\"renamed\")).to_series(2).to_list()\n",
    "renamed_dict = dict(zip(renamed_from, renamed_to))\n",
    "renamed = [f\"{k} -> {v}\" for k, v in renamed_dict.items()]\n",
    "\n",
    "result = \"\"\n",
    "\n",
    "if harmonised:\n",
    "    result += \"### Harmonised\\n\"\n",
    "    result += \", \".join(harmonised)\n",
    "    result += \"\\n\\n\"\n",
    "if renamed_from:\n",
    "    result += \"### Renamed\\n\"\n",
    "    result += \", \".join(renamed)\n",
    "    result += \"\\n\\n\"\n",
    "if deleted:\n",
    "    result += \"### Deleted\\n\"\n",
    "    result += \", \".join(deleted)\n",
    "\n",
    "print(result)"
   ]
  }
 ],
 "metadata": {
  "language_info": {
   "name": "python"
  }
 },
 "nbformat": 4,
 "nbformat_minor": 5
}
